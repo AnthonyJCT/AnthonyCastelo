{
 "cells": [
  {
   "cell_type": "code",
   "execution_count": 28,
   "id": "c2637892-e0de-4323-9583-1d4536ef152a",
   "metadata": {},
   "outputs": [],
   "source": [
    "import numpy as py \n",
    "import matplotlib.pyplot as mat"
   ]
  },
  {
   "cell_type": "markdown",
   "id": "5b48c299-eb06-40b4-bfbd-d982c4e3fe6d",
   "metadata": {},
   "source": [
    "# ESTATICA\n",
    "## DEBER: Ejercicio 2-58\n",
    "![title](deber.png)\n",
    "\n",
    ">Una fuerza de 120N es aplicada como se muestra en la figura, al extremo de la llave curva. Si $0 \\leq \\alpha \\leq 90^o$, calcula el momento de F sobre el centro O del perno. Determina el valor de $\\alpha$ del cual maximiza el momento sobre O, indica el valor del momento maximo.\n",
    "\n",
    "<br>DCL de OA<br>\n",
    "![title](DCL.png)\n",
    "\n",
    "$\\vec{r\\:}_A = 0.29\\vec{i\\:} +0.19\\vec{j\\:}$\n",
    "\n",
    "$\\vec{F\\:} = 120*(sin(\\alpha)\\vec{i\\:} -cos(\\alpha)\\vec{j\\:})$\n",
    "\n",
    "$$\\vec{r\\:}x\\vec{F\\:} = (0.29\\vec{i\\:} +0.19\\vec{j\\:})  x  (120*(sin(\\alpha)\\vec{i\\:} -cos(\\alpha)\\vec{j\\:}))$$\n",
    "\n",
    "$$M_O^F = -34.8*cos(\\alpha)-22.8*sen(\\alpha)$$"
   ]
  },
  {
   "cell_type": "code",
   "execution_count": 32,
   "id": "3740db2b-fbf7-4a21-9029-27ee92a99814",
   "metadata": {},
   "outputs": [
    {
     "data": {
      "text/plain": [
       "<function matplotlib.pyplot.show(close=None, block=None)>"
      ]
     },
     "execution_count": 32,
     "metadata": {},
     "output_type": "execute_result"
    },
    {
     "data": {
      "image/png": "[encoded data removed]",
      "text/plain": [
       "<Figure size 432x288 with 1 Axes>"
      ]
     },
     "metadata": {
      "needs_background": "light"
     },
     "output_type": "display_data"
    }
   ],
   "source": [
    "th = py.arange(0,90,1.5)\n",
    "vth = py.array(py.deg2rad(th))\n",
    "R = py.abs(-34.8*py.cos(vth)-22.8*py.sin(vth))\n",
    "\n",
    "mat.scatter(th,R)\n",
    "mat.title('Relación')\n",
    "mat.xlabel('Alpha[deg]')\n",
    "mat.ylabel('M [Nm]')\n",
    "mat.show"
   ]
  },
  {
   "cell_type": "code",
   "execution_count": 33,
   "id": "931270d2-e53e-40ca-8fed-275df4cd58cf",
   "metadata": {
    "tags": []
   },
   "outputs": [
    {
     "name": "stdout",
     "output_type": "stream",
     "text": [
      "41.60350576284337\n"
     ]
    }
   ],
   "source": [
    "mx = py.max(R)\n",
    "print(mx)"
   ]
  },
  {
   "cell_type": "markdown",
   "id": "32f33655-d0ae-42be-aa1f-aa40a2162f61",
   "metadata": {},
   "source": [
    "<br>Con ayuda de la gráfica se puede encontrar el momento máximo que se puede otener de $0 \\leq \\alpha \\leq 90^o$, con lo cual remplazamos en la solución general para hallar el ángulo donde el momento será máximo<br>\n",
    "\n",
    "$$-41.6 = -34.8*cos(\\alpha)-22.8*sen(\\alpha)$$\n",
    "\n",
    "$$\\alpha = 33.2^o$$\n"
   ]
  },
  {
   "cell_type": "code",
   "execution_count": null,
   "id": "c9d7af85-5add-45de-b6b3-d445781cbeb5",
   "metadata": {},
   "outputs": [],
   "source": []
  }
 ],
 "metadata": {
  "kernelspec": {
   "display_name": "Python 3",
   "language": "python",
   "name": "python3"
  },
  "language_info": {
   "codemirror_mode": {
    "name": "ipython",
    "version": 3
   },
   "file_extension": ".py",
   "mimetype": "text/x-python",
   "name": "python",
   "nbconvert_exporter": "python",
   "pygments_lexer": "ipython3",
   "version": "3.8.8"
  }
 },
 "nbformat": 4,
 "nbformat_minor": 5
}
